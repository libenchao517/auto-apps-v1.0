{
 "cells": [
  {
   "cell_type": "code",
   "execution_count": null,
   "metadata": {
    "collapsed": true
   },
   "outputs": [],
   "source": [
    "# 测试Make_Table类\n",
    "# 对ACC.xlsx中的数据进行格式化\n",
    "# 图1是ACC.xlsx文件的原始样式\n",
    "from Utils import Make_Table\n",
    "m = [\"GLPP\", \"GKDA\"]\n",
    "MT = Make_Table(methods=m)\n",
    "MT.Make(\"ACC.xlsx\")"
   ]
  },
  {
   "cell_type": "code",
   "execution_count": null,
   "outputs": [],
   "source": [
    "# 测试Make_Results类\n",
    "# Analysis文件夹中有2DUMAP、2DSUMAP、PUMAP、KUMAP、SKUMAP等方法\n",
    "# 在CMNIST、COIL-20、COIL-100等数据集上的结果\n",
    "from Utils import Make_Results\n",
    "from Utils import Make_Table\n",
    "import os\n",
    "# 整理结果\n",
    "MR = Make_Results(\n",
    "    project='UMAP',\n",
    "    index=[\"PRE\", 'REC'],\n",
    "    methods=[\"PUMAP\", \"UMAP\", \"KUMAP\"],\n",
    "    datasets=[\"CMNIST\", \"TMNIST\"]\n",
    ")\n",
    "MR.make()\n",
    "# 格式化图表\n",
    "# 结果存储在\"UMAP/Result-Files\"中\n",
    "MT = Make_Table()\n",
    "xlsx_list = [item for item in os.listdir(MR.result_file) if item.endswith(\".xlsx\")]\n",
    "for xlsx in xlsx_list:\n",
    "    MT.Make(os.path.join(MR.result_file, xlsx))"
   ],
   "metadata": {
    "collapsed": false
   }
  },
  {
   "cell_type": "code",
   "execution_count": null,
   "outputs": [],
   "source": [
    "# 测试Auto_Run类\n",
    "from Utils import Auto_Run\n",
    "AR = Auto_Run(\n",
    "    Project=\"UMAP\",  # 项目名称\n",
    "    MRPY=\"Make_Results_UMAP.py\", # 整理实验结果的专门文件\n",
    "    content=\"UMAP/Basic\", # 存储代码文件的位置\n",
    "    is_parallel=False, # 不并行运行\n",
    "    lock=True #不发送邮件提醒\n",
    ")\n",
    "# AR.Run()"
   ],
   "metadata": {
    "collapsed": false
   }
  },
  {
   "cell_type": "code",
   "execution_count": null,
   "outputs": [],
   "source": [
    "# 测试Image_Matrix类\n",
    "# 生成2行4列的图像矩阵\n",
    "from Utils import Image_Matrix\n",
    "Image_Matrix(2, 4)"
   ],
   "metadata": {
    "collapsed": false
   }
  },
  {
   "cell_type": "code",
   "execution_count": null,
   "outputs": [],
   "source": [
    "# 测试发送邮件类\n",
    "from Send import Auto_Email\n",
    "from Send import check_Internet\n",
    "if check_Internet(lock=False):\n",
    "    AS = Auto_Email(subject=\"项目开始通知\")\n",
    "    # AS.Send_txt(txt=\"项目开始运行！\")"
   ],
   "metadata": {
    "collapsed": false
   }
  }
 ],
 "metadata": {
  "kernelspec": {
   "display_name": "Python 3",
   "language": "python",
   "name": "python3"
  },
  "language_info": {
   "codemirror_mode": {
    "name": "ipython",
    "version": 2
   },
   "file_extension": ".py",
   "mimetype": "text/x-python",
   "name": "python",
   "nbconvert_exporter": "python",
   "pygments_lexer": "ipython2",
   "version": "2.7.6"
  }
 },
 "nbformat": 4,
 "nbformat_minor": 0
}
